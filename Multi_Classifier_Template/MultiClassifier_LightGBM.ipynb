{
 "cells": [
  {
   "cell_type": "code",
   "execution_count": null,
   "id": "9af80f1c",
   "metadata": {},
   "outputs": [],
   "source": [
    "import lightgbm as lgb\n",
    "import numpy as np\n",
    "import pandas as pd\n",
    "from sklearn.model_selection import train_test_split\n",
    "from sklearn.metrics import accuracy_score\n",
    "from sklearn import metrics\n",
    "from sklearn.model_selection import KFold\n",
    "# StratifiedKFold is used to ensure that class distribution is maintained across folds.\n",
    "from sklearn.model_selection import StratifiedKFold\n",
    "import warnings"
   ]
  },
  {
   "cell_type": "code",
   "execution_count": null,
   "id": "fa6002f9",
   "metadata": {},
   "outputs": [],
   "source": [
    "df_path = r\"C:\\Users\\Heng2020\\OneDrive\\Python Modeling\\Modeling 01\\Dataset Classification\\08 ObesityRisk\\08 ObesityRisk_train.csv\"\n",
    "y_name = \"NObeyesdad\"\n",
    "saved_model_name = \"LightGBM Obesity_risk_v01\"\n",
    "eval_metric = 'accuracy'"
   ]
  },
  {
   "cell_type": "code",
   "execution_count": null,
   "id": "0cd1ed14",
   "metadata": {},
   "outputs": [],
   "source": [
    "folder_path = r\"C:/Users/Heng2020/OneDrive/Python Modeling/Modeling 01/Code Classification/Classify 08\"\n",
    "model_path = r\"C:/Users/Heng2020/OneDrive/Python Modeling/Modeling 01/Regression 02/Model 02.joblib\"\n",
    "alarm_path = r\"H:\\D_Music\\Sound Effect positive-massive-logo.mp3\""
   ]
  },
  {
   "cell_type": "code",
   "execution_count": null,
   "id": "507678b8",
   "metadata": {},
   "outputs": [],
   "source": [
    "drop_col01 = ['id']\n",
    "drop_col02 = ['id']\n",
    "drop_col03 = []\n",
    "drop_col = drop_col01"
   ]
  },
  {
   "cell_type": "code",
   "execution_count": null,
   "id": "2358f105",
   "metadata": {},
   "outputs": [],
   "source": [
    "data_ori = pd.read_csv(df_path,header=0)\n",
    "\n",
    "mySeed = 20\n",
    "num_to_cat_col = []\n",
    "\n",
    "n_data = 30_000\n",
    "\n",
    "if isinstance(n_data, str) or data_ori.shape[0] < n_data :\n",
    "    data = data_ori\n",
    "else:\n",
    "    data = data_ori.sample(n=n_data,random_state=mySeed)\n",
    "\n",
    "#%%\n",
    "saved_model_path = folder_path + \"/\" + saved_model_name\n",
    "data = data.drop(drop_col,axis=1)"
   ]
  },
  {
   "cell_type": "code",
   "execution_count": null,
   "id": "9e5733a7",
   "metadata": {},
   "outputs": [],
   "source": [
    "def pd_preprocess(data):\n",
    "    df_cleaned = data\n",
    "\n",
    "    return df_cleaned"
   ]
  },
  {
   "cell_type": "code",
   "execution_count": null,
   "id": "2542a77c",
   "metadata": {},
   "outputs": [],
   "source": [
    "data = pd_preprocess(data)\n",
    "\n",
    "# data = ds.num_to_cat(data,num_to_cat_col)\n",
    "# cat_col = ds.pd_cat_column(data)\n",
    "# data = ds.pd_to_category(data)\n",
    "\n",
    "X_train, X_test, y_train, y_test = train_test_split(\n",
    "                                        data.drop(y_name, axis=1), \n",
    "                                        data[y_name], \n",
    "                                        test_size=0.2, \n",
    "                                        random_state=mySeed)\n",
    "\n",
    "\n",
    "\n",
    "train_data = lgb.Dataset(data=X_train, label=y_train)\n",
    "test_data = lgb.Dataset(data=X_test, label=y_test)\n",
    "\n",
    "params01 = {\n",
    "    # 'objective': 'multiclass',\n",
    "    # 'metric': 'multi_logloss',\n",
    "    # auto numclass\n",
    "    # 'num_class': 2,\n",
    "    'max_depth':8,\n",
    "    'num_leaves': 31,\n",
    "    'max_bin': 260,\n",
    "    \n",
    "    'feature_fraction': 0.9,\n",
    "    'bagging_fraction': 0.8,\n",
    "    \n",
    "    \n",
    "    'boosting_type': 'gbdt',\n",
    "    'learning_rate': 0.05,\n",
    "    'bagging_freq': 5,\n",
    "    'verbosity': -1,\n",
    "    # 'n_estimators': 100,\n",
    "    # 'num_boost_round' : 1000,\n",
    "    \n",
    "    \"min_data_in_leaf\":100\n",
    "}\n",
    "#%%\n",
    "callbacks = [lgb.log_evaluation(period=50)]\n",
    "\n",
    "model = lgb.LGBMClassifier()\n",
    "model.fit(X_train, y_train, eval_set=(X_test, y_test),callbacks=callbacks)\n",
    "\n",
    "num_folds = 5"
   ]
  },
  {
   "cell_type": "code",
   "execution_count": null,
   "id": "5e38482a",
   "metadata": {},
   "outputs": [],
   "source": [
    "cv_results = lgb.cv(params01, train_data,nfold=num_folds, stratified=True)\n",
    "\n",
    "y_pred_train = model.predict(X_train)\n",
    "\n",
    "print(metrics.classification_report(y_train, y_pred_train))\n",
    "print(metrics.confusion_matrix(y_train, y_pred_train))\n",
    "\n",
    "feat_imp = pd.Series(model.feature_importances_, index=X_train.columns)\n",
    "feat_imp.nlargest(30).plot(kind='barh', figsize=(8,10))\n",
    "\n",
    "y_pred_test = model.predict(X_test)\n",
    "print(metrics.classification_report(y_test, y_pred_test))\n",
    "print(metrics.confusion_matrix(y_test, y_pred_test))"
   ]
  }
 ],
 "metadata": {
  "kernelspec": {
   "display_name": "autogluon_1.1.2_v01",
   "language": "python",
   "name": "python3"
  },
  "language_info": {
   "codemirror_mode": {
    "name": "ipython",
    "version": 3
   },
   "file_extension": ".py",
   "mimetype": "text/x-python",
   "name": "python",
   "nbconvert_exporter": "python",
   "pygments_lexer": "ipython3",
   "version": "3.11.10"
  }
 },
 "nbformat": 4,
 "nbformat_minor": 5
}
